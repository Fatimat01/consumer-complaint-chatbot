{
 "cells": [
  {
   "cell_type": "code",
   "execution_count": 1,
   "id": "69d9b6c9",
   "metadata": {},
   "outputs": [
    {
     "data": {
      "text/plain": [
       "True"
      ]
     },
     "execution_count": 1,
     "metadata": {},
     "output_type": "execute_result"
    }
   ],
   "source": [
    "\n",
    "# import libraries\n",
    "import os\n",
    "from dotenv import load_dotenv\n",
    "from langchain_community.document_loaders.csv_loader import CSVLoader\n",
    "from langchain.text_splitter import RecursiveCharacterTextSplitter\n",
    "from langchain_core.prompts import ChatPromptTemplate\n",
    "#from langchain.embeddings import OpenAIEmbeddings\n",
    "from langchain_openai import OpenAIEmbeddings\n",
    "from langchain.chains.combine_documents import create_stuff_documents_chain\n",
    "from langchain.chains import create_retrieval_chain\n",
    "from langchain.chains import create_history_aware_retriever\n",
    "from langchain_core.prompts import MessagesPlaceholder\n",
    "from langchain_core.messages import AIMessage, HumanMessage\n",
    "\n",
    "\n",
    "from langchain_openai import ChatOpenAI\n",
    "#from langchain.vectorstores import Chroma\n",
    "from langchain_chroma import Chroma\n",
    "from tqdm import tqdm\n",
    "\n",
    "load_dotenv()  # Load OPENAI_API_KEY from .env"
   ]
  },
  {
   "cell_type": "markdown",
   "id": "104da157-7875-4a4c-badc-b51c0d8ee06a",
   "metadata": {},
   "source": [
    "### set langsmith for observability"
   ]
  },
  {
   "cell_type": "code",
   "execution_count": 2,
   "id": "eeea836f-b867-4e63-84dc-475707689620",
   "metadata": {},
   "outputs": [],
   "source": [
    "## log traces with Langsmith\n",
    "##export LANGSMITH_TRACING=\"true\"\n",
    "LANGSMITH_PROJECT=\"consumer-complaint-chatbot\"\n",
    "# openai and langsmith api keys set in .env"
   ]
  },
  {
   "cell_type": "markdown",
   "id": "7f5df707-25cb-49b2-808d-1b14aff438a9",
   "metadata": {},
   "source": [
    "### load document"
   ]
  },
  {
   "cell_type": "code",
   "execution_count": 3,
   "id": "2d0530b0",
   "metadata": {},
   "outputs": [
    {
     "name": "stdout",
     "output_type": "stream",
     "text": [
      "Loaded 10000 documents.\n"
     ]
    }
   ],
   "source": [
    "# Load complaint data\n",
    "loader = CSVLoader(\n",
    "    file_path=\"../data/complaints.csv\",\n",
    "    # source_column=\"Issue\",\n",
    "    # metadata_columns=[\"Product\", \"Company\", \"Consumer complaint narrative\"]\n",
    ")\n",
    "\n",
    "documents = loader.load()\n",
    "print(f\"Loaded {len(documents)} documents.\")\n",
    "\n"
   ]
  },
  {
   "cell_type": "markdown",
   "id": "b3df84ce-8645-4043-ae0a-a7b854b282a6",
   "metadata": {},
   "source": [
    "### split document into chunks"
   ]
  },
  {
   "cell_type": "code",
   "execution_count": 4,
   "id": "d9865475",
   "metadata": {},
   "outputs": [
    {
     "name": "stdout",
     "output_type": "stream",
     "text": [
      "Split into 28021 chunks.\n"
     ]
    }
   ],
   "source": [
    "# use small chunk size for short issue statements (no overlap)\n",
    "splitter = RecursiveCharacterTextSplitter(\n",
    "    chunk_size=500,\n",
    "    chunk_overlap=100\n",
    ")\n",
    "\n",
    "chunks = splitter.split_documents(documents)\n",
    "\n",
    "print(f\"Split into {len(chunks)} chunks.\")\n"
   ]
  },
  {
   "cell_type": "markdown",
   "id": "f6d6949a-82fe-496d-8c99-2061ba6052be",
   "metadata": {},
   "source": [
    "### embed and store document"
   ]
  },
  {
   "cell_type": "code",
   "execution_count": 5,
   "id": "5378b7c8",
   "metadata": {},
   "outputs": [],
   "source": [
    "# create Chroma vector store \n",
    "embedding = OpenAIEmbeddings()\n",
    "vectorstore_path = \"../chroma_db\"\n",
    "\n",
    "vectorstore = Chroma.from_documents(documents=chunks, embedding=embedding, persist_directory=vectorstore_path)\n",
    "\n",
    "# vectorstore = Chroma.from_documents(chunks, embedding=embedding, persist_directory=\"../chroma_db\")\n"
   ]
  },
  {
   "cell_type": "markdown",
   "id": "313bbbfb-d52f-40a5-9b53-d63d26f12866",
   "metadata": {},
   "source": [
    "### retreive and generate prompt"
   ]
  },
  {
   "cell_type": "code",
   "execution_count": 6,
   "id": "197d5ce5",
   "metadata": {},
   "outputs": [],
   "source": [
    "retriever = vectorstore.as_retriever()\n",
    "llm = ChatOpenAI(model=\"gpt-4o-mini\")\n",
    "\n",
    "# incorporate the retriever into a question-answering chain.\n",
    "system_prompt = (\n",
    "    \"You are an assistant for question-answering tasks. \"\n",
    "    \"Use the following pieces of retrieved context to answer \"\n",
    "    \"the question. If you don't know the answer, say that you \"\n",
    "    \"don't know. Use three sentences maximum and keep the \"\n",
    "    \"answer concise.\"\n",
    "    \"\\n\\n\"\n",
    "    \"{context}\"\n",
    ")\n",
    "\n",
    "prompt = ChatPromptTemplate.from_messages(\n",
    "    [\n",
    "        (\"system\", system_prompt),\n",
    "        (\"human\", \"{input}\"),\n",
    "    ]\n",
    ")"
   ]
  },
  {
   "cell_type": "code",
   "execution_count": 7,
   "id": "69dd9f61-703f-481b-95c8-8c11fa1bfadc",
   "metadata": {},
   "outputs": [],
   "source": [
    "question_answer_chain = create_stuff_documents_chain(llm, prompt)\n",
    "rag_chain = create_retrieval_chain(retriever, question_answer_chain)"
   ]
  },
  {
   "cell_type": "code",
   "execution_count": 8,
   "id": "647bfb32-6c10-4299-94c8-d4694879239d",
   "metadata": {},
   "outputs": [
    {
     "data": {
      "text/plain": [
       "'The complaints mention issues with \"XXXX XXXX XXXX\" and \"MY LOAN CAREXXXX\" regarding high bills, unreceived payments, and late fees. However, specific names are not provided in the context. Therefore, I cannot definitively state which mortgage company has poor customer service based on the information given.'"
      ]
     },
     "execution_count": 8,
     "metadata": {},
     "output_type": "execute_result"
    }
   ],
   "source": [
    "response = rag_chain.invoke({\"input\": \"which mortgage company have poor customer service\"})\n",
    "response[\"answer\"]"
   ]
  },
  {
   "cell_type": "markdown",
   "id": "9ec4f7d4-ac64-4614-85f2-181a2b7f4a77",
   "metadata": {},
   "source": [
    "### Add chat history"
   ]
  },
  {
   "cell_type": "code",
   "execution_count": 9,
   "id": "a33dedaf-4f0b-406f-a174-c6dcfe1e0b17",
   "metadata": {},
   "outputs": [],
   "source": [
    "## contextualize the question by reformulating the question to reference to any \n",
    "# information in the historical information.\n",
    "chat_history = []\n",
    "contextualize_q_system_prompt = (\n",
    "    \"Given a chat history and the latest user question \"\n",
    "    \"which might reference context in the chat history, \"\n",
    "    \"formulate a standalone question which can be understood \"\n",
    "    \"without the chat history. Do NOT answer the question, \"\n",
    "    \"just reformulate it if needed and otherwise return it as is.\"\n",
    ")\n",
    "\n",
    "contextualize_q_prompt = ChatPromptTemplate.from_messages(\n",
    "    [\n",
    "        (\"system\", contextualize_q_system_prompt),\n",
    "        MessagesPlaceholder(\"chat_history\"),\n",
    "        (\"human\", \"{input}\"),\n",
    "    ]\n",
    ")\n",
    "# retreiver becomes history aware\n",
    "history_aware_retriever = create_history_aware_retriever(\n",
    "    llm, retriever, contextualize_q_prompt\n",
    ")"
   ]
  },
  {
   "cell_type": "code",
   "execution_count": 10,
   "id": "156acd87-c8bf-4fbe-af0b-cd467b811409",
   "metadata": {},
   "outputs": [],
   "source": [
    "qa_prompt = ChatPromptTemplate.from_messages(\n",
    "    [\n",
    "        (\"system\", system_prompt),\n",
    "        MessagesPlaceholder(\"chat_history\"),\n",
    "        (\"human\", \"{input}\"),\n",
    "    ]\n",
    ")\n",
    "\n",
    "question_answer_chain = create_stuff_documents_chain(llm, qa_prompt)\n",
    "rag_chain = create_retrieval_chain(history_aware_retriever, question_answer_chain)"
   ]
  },
  {
   "cell_type": "code",
   "execution_count": 11,
   "id": "626f4bee-bc50-41fb-94a3-69af49b50158",
   "metadata": {},
   "outputs": [
    {
     "name": "stdout",
     "output_type": "stream",
     "text": [
      "People are primarily complaining about loan modification, collection, and foreclosure issues related to their mortgages. Additionally, there are complaints about loan servicing, payments, and escrow accounts.\n"
     ]
    }
   ],
   "source": [
    "chat_history = []\n",
    "\n",
    "question = \"Are there complaints involving bank of america mortgages?\"\n",
    "\n",
    "ai_msg_1 = rag_chain.invoke({\"input\": question, \"chat_history\": chat_history})\n",
    "chat_history.extend(\n",
    "    [\n",
    "        HumanMessage(content=question),\n",
    "        AIMessage(content=ai_msg_1[\"answer\"]),\n",
    "    ]\n",
    ")\n",
    "\n",
    "\n",
    "second_question = \"What issues are people complaining about?\"\n",
    "ai_msg_2 = rag_chain.invoke({\"input\": second_question, \"chat_history\": chat_history})\n",
    "\n",
    "print(ai_msg_2[\"answer\"])"
   ]
  },
  {
   "cell_type": "markdown",
   "id": "ab4cb82d-330f-4d15-981e-e59d1a95789d",
   "metadata": {},
   "source": [
    "### persisting chat history and automate input using RunnableWithMessageHistory"
   ]
  },
  {
   "cell_type": "code",
   "execution_count": 12,
   "id": "dcbf267a-a1a9-4e61-962d-f47d1fdb248a",
   "metadata": {},
   "outputs": [],
   "source": [
    "from langchain_community.chat_message_histories import ChatMessageHistory\n",
    "from langchain_core.chat_history import BaseChatMessageHistory\n",
    "from langchain_core.runnables.history import RunnableWithMessageHistory\n"
   ]
  },
  {
   "cell_type": "code",
   "execution_count": 13,
   "id": "1f5fe00b-2198-4dd7-a2d9-ad5b27b36d54",
   "metadata": {},
   "outputs": [],
   "source": [
    "store = {}\n",
    "\n",
    "\n",
    "def get_session_history(session_id: str) -> BaseChatMessageHistory:\n",
    "    if session_id not in store:\n",
    "        store[session_id] = ChatMessageHistory()\n",
    "    return store[session_id]\n",
    "\n",
    "\n",
    "conversational_rag_chain = RunnableWithMessageHistory(\n",
    "    rag_chain,\n",
    "    get_session_history,\n",
    "    input_messages_key=\"input\",\n",
    "    history_messages_key=\"chat_history\",\n",
    "    output_messages_key=\"answer\",\n",
    ")"
   ]
  },
  {
   "cell_type": "markdown",
   "id": "b1849ac5-38c5-4280-8afb-467a78201065",
   "metadata": {},
   "source": [
    "### invoke the chain"
   ]
  },
  {
   "cell_type": "code",
   "execution_count": 14,
   "id": "506486a5-762f-4394-83a6-8d97e5a292d9",
   "metadata": {},
   "outputs": [
    {
     "data": {
      "text/plain": [
       "\"Yes, there are complaints involving Bank of America's mortgages, specifically related to issues like loan modification, collection, and foreclosure. Multiple complaints have been received, particularly in California and Wisconsin. Some of these complaints were closed with explanations or non-monetary relief.\""
      ]
     },
     "execution_count": 14,
     "metadata": {},
     "output_type": "execute_result"
    }
   ],
   "source": [
    "conversational_rag_chain.invoke(\n",
    "    {\"input\": \"Are there complaints involving bank of america mortgages?\"},\n",
    "    config={\n",
    "        \"configurable\": {\"session_id\": \"1\"}\n",
    "    },  # constructs a key \"abc123\" in `store`.\n",
    ")[\"answer\"]"
   ]
  },
  {
   "cell_type": "code",
   "execution_count": 15,
   "id": "9f178531-415f-4baa-9a0c-f50f904a5fd9",
   "metadata": {},
   "outputs": [
    {
     "data": {
      "text/plain": [
       "'People are primarily complaining about loan servicing issues, including problems with loan modifications, payment processing, and escrow account management. Other common issues involve collection practices and foreclosure proceedings. Customers have also reported difficulties with communication and customer service responses.'"
      ]
     },
     "execution_count": 15,
     "metadata": {},
     "output_type": "execute_result"
    }
   ],
   "source": [
    "conversational_rag_chain.invoke(\n",
    "    {\"input\": \"What issues are people complaining about?\"},\n",
    "    config={\"configurable\": {\"session_id\": \"1\"}},\n",
    ")[\"answer\"]"
   ]
  },
  {
   "cell_type": "markdown",
   "id": "0b0effaa-c22d-421c-a638-6d44f0b24f68",
   "metadata": {},
   "source": [
    "### Now lets build an Agent "
   ]
  },
  {
   "cell_type": "markdown",
   "id": "b7cb5904-b057-492c-b37d-8275d0634df7",
   "metadata": {},
   "source": [
    "#### create a retreival tool for the agent"
   ]
  },
  {
   "cell_type": "code",
   "execution_count": 16,
   "id": "91005c35-a61b-4940-8cba-3b2f7fee0670",
   "metadata": {},
   "outputs": [],
   "source": [
    "from langchain.tools.retriever import create_retriever_tool\n",
    "\n",
    "tool = create_retriever_tool(\n",
    "    retriever,\n",
    "    \"consumer_complaints_retriever\",\n",
    "    \"Search for information on what issues consumers are having about companies' products\",\n",
    ")\n",
    "tools = [tool]"
   ]
  },
  {
   "cell_type": "code",
   "execution_count": 17,
   "id": "b09ee7b6-e2eb-4e39-99b3-a14cb9405208",
   "metadata": {},
   "outputs": [
    {
     "data": {
      "text/plain": [
       "\"and/or add years to they 're mortgages. The way the company ( XXXX XXXX XXXX based in NY ) presents themselves is a scam.\\n\\nand/or add years to they 're mortgages. The way the company ( XXXX XXXX XXXX based in NY ) presents themselves is a scam.\\n\\nand/or add years to they 're mortgages. The way the company ( XXXX XXXX XXXX based in NY ) presents themselves is a scam.\\n\\nof mortgage fraud involves collusion by industry insiders, such as bank officers, appraisers, mortgage brokers, attorneys, loan originators, and other professionals engaged in the industry. Fraud for profit aims not to secure housing, but rather to misuse the mortgage lending process to steal cash and equity from lenders or homeowners. The FBI prioritizes fraud for profit cases. '' We owned enough points as we were already XXXX members with XXXX points, but XXXX XXXX presented a program in\""
      ]
     },
     "execution_count": 17,
     "metadata": {},
     "output_type": "execute_result"
    }
   ],
   "source": [
    "tool.invoke(\"mortgage fraud company\")"
   ]
  },
  {
   "cell_type": "markdown",
   "id": "bb0a3bd1-b08d-4fc4-b7ea-54be91deed57",
   "metadata": {},
   "source": [
    "### Create Agent"
   ]
  },
  {
   "cell_type": "code",
   "execution_count": 66,
   "id": "bb7894bd-e895-4e04-b046-0dd05777aa5c",
   "metadata": {},
   "outputs": [],
   "source": [
    "from langgraph.prebuilt import create_react_agent\n",
    "from langgraph.checkpoint.memory import MemorySaver\n",
    "\n",
    "memory = MemorySaver()\n",
    "\n",
    "agent_executor = create_react_agent(llm, tools, checkpointer=memory)"
   ]
  },
  {
   "cell_type": "code",
   "execution_count": null,
   "id": "813c0e07-6329-4577-bfa9-9d4d69785f85",
   "metadata": {},
   "outputs": [],
   "source": []
  }
 ],
 "metadata": {
  "kernelspec": {
   "display_name": "Python 3 (ipykernel)",
   "language": "python",
   "name": "python3"
  },
  "language_info": {
   "codemirror_mode": {
    "name": "ipython",
    "version": 3
   },
   "file_extension": ".py",
   "mimetype": "text/x-python",
   "name": "python",
   "nbconvert_exporter": "python",
   "pygments_lexer": "ipython3",
   "version": "3.10.16"
  }
 },
 "nbformat": 4,
 "nbformat_minor": 5
}
